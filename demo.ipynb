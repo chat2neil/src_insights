{
 "cells": [
  {
   "cell_type": "code",
   "execution_count": 3,
   "metadata": {},
   "outputs": [
    {
     "data": {
      "text/plain": [
       "True"
      ]
     },
     "execution_count": 3,
     "metadata": {},
     "output_type": "execute_result"
    }
   ],
   "source": [
    "import openai\n",
    "from dotenv import load_dotenv\n",
    "\n",
    "load_dotenv()"
   ]
  },
  {
   "cell_type": "code",
   "execution_count": 33,
   "metadata": {},
   "outputs": [
    {
     "name": "stdout",
     "output_type": "stream",
     "text": [
      "\n",
      "1. Uranium (U)\n",
      "2. Plutonium (Pu)\n",
      "3. Neptunium (Np)\n",
      "4. Americium (Am)\n",
      "5. Curium (Cm)\n",
      "6. Berkelium (Bk)\n",
      "7. Californium (Cf)\n",
      "8. Einsteinium (Es)\n",
      "9. Fermium (Fm)\n",
      "10. Mendelevium (Md)\n"
     ]
    }
   ],
   "source": [
    "# 1. Oganesson (Og)\n",
    "# 2. Hassium (Hs)\n",
    "# 3. Meitnerium (Mt)\n",
    "# 4. Darmstadtium (Ds)\n",
    "# 5. Roentgenium (Rg)\n",
    "# 6. Copernicium (Cn)\n",
    "# 7. Ununpentium (Uup)\n",
    "# 8. Ununseptium (Uus)\n",
    "# 9. Ununoctium (Uuo)\n",
    "# 10. Ununhexium (Uuh)\n",
    "\n",
    "prompt = \"\"\"\n",
    "As a physicist, list the top 10 heaviest elements in the periodic table.\n",
    "\"\"\"\n",
    "respose = openai.Completion.create(model=\"text-davinci-003\", prompt=prompt, max_tokens=200, temperature=0)\n",
    "print(respose.choices[0].text)"
   ]
  }
 ],
 "metadata": {
  "kernelspec": {
   "display_name": "src_insights-WRCfmHYa",
   "language": "python",
   "name": "python3"
  },
  "language_info": {
   "codemirror_mode": {
    "name": "ipython",
    "version": 3
   },
   "file_extension": ".py",
   "mimetype": "text/x-python",
   "name": "python",
   "nbconvert_exporter": "python",
   "pygments_lexer": "ipython3",
   "version": "3.9.13"
  },
  "orig_nbformat": 4
 },
 "nbformat": 4,
 "nbformat_minor": 2
}
