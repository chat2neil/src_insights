{
 "cells": [
  {
   "cell_type": "code",
   "execution_count": 25,
   "metadata": {},
   "outputs": [
    {
     "data": {
      "text/plain": [
       "True"
      ]
     },
     "execution_count": 25,
     "metadata": {},
     "output_type": "execute_result"
    }
   ],
   "source": [
    "from dotenv import load_dotenv\n",
    "import pandas as pd\n",
    "from lib.sql_code_parser import SqlCodeParser\n",
    "\n",
    "load_dotenv()\n"
   ]
  },
  {
   "cell_type": "code",
   "execution_count": 26,
   "metadata": {},
   "outputs": [],
   "source": [
    "sql_code_parser = SqlCodeParser(\n",
    "    source_directory=\"source_code/sql_server\",\n",
    "    source_file_glob_pattern=\"**/*.sql\",\n",
    "    use_cache=True,\n",
    "    debug=True\n",
    ")"
   ]
  },
  {
   "cell_type": "code",
   "execution_count": 28,
   "metadata": {},
   "outputs": [
    {
     "data": {
      "text/html": [
       "<div>\n",
       "<style scoped>\n",
       "    .dataframe tbody tr th:only-of-type {\n",
       "        vertical-align: middle;\n",
       "    }\n",
       "\n",
       "    .dataframe tbody tr th {\n",
       "        vertical-align: top;\n",
       "    }\n",
       "\n",
       "    .dataframe thead th {\n",
       "        text-align: right;\n",
       "    }\n",
       "</style>\n",
       "<table border=\"1\" class=\"dataframe\">\n",
       "  <thead>\n",
       "    <tr style=\"text-align: right;\">\n",
       "      <th></th>\n",
       "      <th>table_name</th>\n",
       "      <th>sql_operation</th>\n",
       "      <th>operation_type</th>\n",
       "      <th>procedure_name</th>\n",
       "      <th>combined_feature</th>\n",
       "      <th>cluster_label</th>\n",
       "      <th>service_name</th>\n",
       "    </tr>\n",
       "  </thead>\n",
       "  <tbody>\n",
       "    <tr>\n",
       "      <th>0</th>\n",
       "      <td>Products</td>\n",
       "      <td>SELECT</td>\n",
       "      <td>READ</td>\n",
       "      <td>Ten_Most_Expensive_Products</td>\n",
       "      <td>Products Ten_Most_Expensive_Products READ</td>\n",
       "      <td>2</td>\n",
       "      <td>Products</td>\n",
       "    </tr>\n",
       "    <tr>\n",
       "      <th>1</th>\n",
       "      <td>Products</td>\n",
       "      <td>SELECT</td>\n",
       "      <td>READ</td>\n",
       "      <td>CustOrdersDetail</td>\n",
       "      <td>Products CustOrdersDetail READ</td>\n",
       "      <td>2</td>\n",
       "      <td>Products</td>\n",
       "    </tr>\n",
       "    <tr>\n",
       "      <th>2</th>\n",
       "      <td>Products</td>\n",
       "      <td>SELECT</td>\n",
       "      <td>READ</td>\n",
       "      <td>CustOrderHist</td>\n",
       "      <td>Products CustOrderHist READ</td>\n",
       "      <td>2</td>\n",
       "      <td>Products</td>\n",
       "    </tr>\n",
       "    <tr>\n",
       "      <th>3</th>\n",
       "      <td>Products</td>\n",
       "      <td>SELECT</td>\n",
       "      <td>READ</td>\n",
       "      <td>SalesByCategory</td>\n",
       "      <td>Products SalesByCategory READ</td>\n",
       "      <td>2</td>\n",
       "      <td>Products</td>\n",
       "    </tr>\n",
       "    <tr>\n",
       "      <th>4</th>\n",
       "      <td>Products</td>\n",
       "      <td>INSERT</td>\n",
       "      <td>WRITE</td>\n",
       "      <td>InsertProduct</td>\n",
       "      <td>Products InsertProduct WRITE</td>\n",
       "      <td>2</td>\n",
       "      <td>Products</td>\n",
       "    </tr>\n",
       "  </tbody>\n",
       "</table>\n",
       "</div>"
      ],
      "text/plain": [
       "  table_name sql_operation operation_type               procedure_name  \\\n",
       "0   Products        SELECT           READ  Ten_Most_Expensive_Products   \n",
       "1   Products        SELECT           READ             CustOrdersDetail   \n",
       "2   Products        SELECT           READ                CustOrderHist   \n",
       "3   Products        SELECT           READ              SalesByCategory   \n",
       "4   Products        INSERT          WRITE                InsertProduct   \n",
       "\n",
       "                            combined_feature  cluster_label service_name  \n",
       "0  Products Ten_Most_Expensive_Products READ              2     Products  \n",
       "1             Products CustOrdersDetail READ              2     Products  \n",
       "2                Products CustOrderHist READ              2     Products  \n",
       "3              Products SalesByCategory READ              2     Products  \n",
       "4               Products InsertProduct WRITE              2     Products  "
      ]
     },
     "execution_count": 28,
     "metadata": {},
     "output_type": "execute_result"
    }
   ],
   "source": [
    "df = pd.read_csv('./results/service_candidates_cache.csv')\n",
    "df.head()"
   ]
  },
  {
   "cell_type": "code",
   "execution_count": null,
   "metadata": {},
   "outputs": [],
   "source": []
  }
 ],
 "metadata": {
  "kernelspec": {
   "display_name": "src_insights-WRCfmHYa",
   "language": "python",
   "name": "python3"
  },
  "language_info": {
   "codemirror_mode": {
    "name": "ipython",
    "version": 3
   },
   "file_extension": ".py",
   "mimetype": "text/x-python",
   "name": "python",
   "nbconvert_exporter": "python",
   "pygments_lexer": "ipython3",
   "version": "3.9.13"
  },
  "orig_nbformat": 4
 },
 "nbformat": 4,
 "nbformat_minor": 2
}
